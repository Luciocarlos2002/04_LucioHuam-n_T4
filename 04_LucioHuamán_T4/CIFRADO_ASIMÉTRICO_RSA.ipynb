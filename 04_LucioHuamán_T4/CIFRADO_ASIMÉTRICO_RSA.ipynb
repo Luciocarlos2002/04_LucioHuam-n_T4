{
 "cells": [
  {
   "cell_type": "code",
   "execution_count": 35,
   "id": "d50c00b3",
   "metadata": {},
   "outputs": [
    {
     "name": "stdout",
     "output_type": "stream",
     "text": [
      "La cadena :  Hello Peter       fue encriptada por :     b'\\xc7\\xc1\\xe8m\\xb7[-$d\\xe5\\xb2J\\xd4\\xf1\\xc1F^d\\xc9\\xc9\\xd7\\x13\\x8bzh\\xb5\\xba8\\xfd\\x8e\\xaf\\x04\\xb4\\xa2\\xb7\\x9c\\xf9X\\xdf\\x99\\x0b\\x07\\xe5\\x8a\\xf1\\x1b\\x15W\\x97\\xff\\x048\\xde\\xe7\\x0b\\xee5:VxGJAm'\n",
      "\n",
      "La cadena encriptada:  b'\\xc7\\xc1\\xe8m\\xb7[-$d\\xe5\\xb2J\\xd4\\xf1\\xc1F^d\\xc9\\xc9\\xd7\\x13\\x8bzh\\xb5\\xba8\\xfd\\x8e\\xaf\\x04\\xb4\\xa2\\xb7\\x9c\\xf9X\\xdf\\x99\\x0b\\x07\\xe5\\x8a\\xf1\\x1b\\x15W\\x97\\xff\\x048\\xde\\xe7\\x0b\\xee5:VxGJAm'        fue descencriptada por :    Hello Peter\n"
     ]
    }
   ],
   "source": [
    "#CIFRADO ASIMÉTRICO\n",
    "#Importamos el RSA\n",
    "import rsa\n",
    " \n",
    "#Generamos las claves públicas y privadas con el metodo rsa.newkeys()\n",
    "publicKey, privateKey = rsa.newkeys(512)\n",
    " \n",
    "#Ingresamos la cadena que vamos encriptar\n",
    "message = \"Hello Peter\"\n",
    " \n",
    "#Método rsa.encrypt se usa para cifrar la cadena de la clave pública\n",
    "encMessage = rsa.encrypt(message.encode(), publicKey)\n",
    " \n",
    "#Imprimimos la cadena encriptada\n",
    "print(\"La cadena : \", message + \"       fue encriptada por :    \", encMessage)\n",
    " \n",
    "#Método rsa.decrypt se usa para descencriptar la cadena encriptada\n",
    "#Se usa la clave privada para el descifrado\n",
    "decMessage = rsa.decrypt(encMessage, privateKey).decode()\n",
    "\n",
    "print()\n",
    " \n",
    "#Descencriptamos la cadena encriptada\n",
    "print(\"La cadena encriptada: \", encMessage, \"       fue descencriptada por :    \"+ decMessage)"
   ]
  },
  {
   "cell_type": "code",
   "execution_count": null,
   "id": "bfd883e5",
   "metadata": {},
   "outputs": [],
   "source": []
  }
 ],
 "metadata": {
  "kernelspec": {
   "display_name": "Python 3",
   "language": "python",
   "name": "python3"
  },
  "language_info": {
   "codemirror_mode": {
    "name": "ipython",
    "version": 3
   },
   "file_extension": ".py",
   "mimetype": "text/x-python",
   "name": "python",
   "nbconvert_exporter": "python",
   "pygments_lexer": "ipython3",
   "version": "3.8.8"
  }
 },
 "nbformat": 4,
 "nbformat_minor": 5
}
