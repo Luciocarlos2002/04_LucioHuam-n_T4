{
 "cells": [
  {
   "cell_type": "code",
   "execution_count": 4,
   "id": "58b9fab7",
   "metadata": {},
   "outputs": [
    {
     "name": "stdout",
     "output_type": "stream",
     "text": [
      "Ingresa un valor: SISTEMAS\n"
     ]
    }
   ],
   "source": [
    "#ENCRIPTAR de MD5\n",
    "#importamos el módulo hashlib\n",
    "import hashlib\n",
    "\n",
    "#Ingresamos un valor\n",
    "encrip_md5 = input('Ingresa un valor: ')"
   ]
  },
  {
   "cell_type": "code",
   "execution_count": 5,
   "id": "ff8984e2",
   "metadata": {},
   "outputs": [],
   "source": [
    "#Usamos la función hashlib.md5() para transformar la cadena\n",
    "valor_md5 = hashlib.md5(encrip_md5.encode())"
   ]
  },
  {
   "cell_type": "code",
   "execution_count": 6,
   "id": "06084ea7",
   "metadata": {
    "scrolled": true
   },
   "outputs": [
    {
     "name": "stdout",
     "output_type": "stream",
     "text": [
      "Imprimiendo a equivalente Hexadecimal de : SISTEMAS  a    d31929e08fad9acf9d877d9813f026a2\n",
      "Imprimiendo a equivalente Byte de: SISTEMAS  a     b'\\xd3\\x19)\\xe0\\x8f\\xad\\x9a\\xcf\\x9d\\x87}\\x98\\x13\\xf0&\\xa2'\n",
      "Imprimiendo a equivalente HASH de: SISTEMAS  a     <md5 HASH object @ 0x0000017FD1D8AE30>\n"
     ]
    }
   ],
   "source": [
    "#Imprimimos la encriptación\n",
    "print(\"Imprimiendo a equivalente Hexadecimal de : \" + encrip_md5 + \"  a    \" + valor_md5.hexdigest());\n",
    "print(\"Imprimiendo a equivalente Byte de: \" + encrip_md5 + \"  a    \" , valor_md5.digest());\n",
    "print(\"Imprimiendo a equivalente HASH de: \" + encrip_md5 + \"  a    \" , valor_md5);"
   ]
  },
  {
   "cell_type": "code",
   "execution_count": null,
   "id": "c96259e1",
   "metadata": {},
   "outputs": [],
   "source": []
  },
  {
   "cell_type": "code",
   "execution_count": 32,
   "id": "b6c5f57a",
   "metadata": {},
   "outputs": [
    {
     "name": "stdout",
     "output_type": "stream",
     "text": [
      "Ingresar el hash md5: d31929e08fad9acf9d877d9813f026a2\n",
      "\n",
      "Ingrese el nombre del archivo: list.txt\n"
     ]
    }
   ],
   "source": [
    "#DESCENCRIPTAR\n",
    "import hashlib\n",
    "\n",
    "#Insertamos el hash md5\n",
    "decrypt_md5 = input(\"Ingresar el hash md5: \")\n",
    "\n",
    "print()\n",
    "\n",
    "#Insertamos el archivo txt\n",
    "wordlist = input(\"Ingrese el nombre del archivo: \")"
   ]
  },
  {
   "cell_type": "code",
   "execution_count": 33,
   "id": "e30604ad",
   "metadata": {},
   "outputs": [],
   "source": [
    "#Agregamos los bloques para manejar una excepción\n",
    "try:\n",
    "    pass_file = open(wordlist, \"r\")\n",
    "except:\n",
    "    print(\"Archivo no encontrado\")\n",
    "    quit()"
   ]
  },
  {
   "cell_type": "code",
   "execution_count": 34,
   "id": "431a1efc",
   "metadata": {},
   "outputs": [
    {
     "name": "stdout",
     "output_type": "stream",
     "text": [
      "Imprimiendo descencriptación de d31929e08fad9acf9d877d9813f026a2 a:   SISTEMAS\t\n"
     ]
    }
   ],
   "source": [
    "#Agragamos el bucle for\n",
    "for word in pass_file:\n",
    "\n",
    "#Agregamos el metodo stip() para capturar el hash md5\n",
    "    wrd = word.encode('utf-8')\n",
    "    hexadecimal = hashlib.md5(wrd.strip()).hexdigest()\n",
    "    \n",
    "    \n",
    "#Agregamos la condicional e Imprimimos nuestra descencriptación\n",
    "#HEXADECIMAL\n",
    "    if hexadecimal == decrypt_md5:\n",
    "        print(\"Imprimiendo descencriptación de \" + decrypt_md5 + \" a:   \" + word)\n",
    "        break    "
   ]
  },
  {
   "cell_type": "code",
   "execution_count": null,
   "id": "e5c19d87",
   "metadata": {},
   "outputs": [],
   "source": []
  }
 ],
 "metadata": {
  "kernelspec": {
   "display_name": "Python 3",
   "language": "python",
   "name": "python3"
  },
  "language_info": {
   "codemirror_mode": {
    "name": "ipython",
    "version": 3
   },
   "file_extension": ".py",
   "mimetype": "text/x-python",
   "name": "python",
   "nbconvert_exporter": "python",
   "pygments_lexer": "ipython3",
   "version": "3.8.8"
  }
 },
 "nbformat": 4,
 "nbformat_minor": 5
}
